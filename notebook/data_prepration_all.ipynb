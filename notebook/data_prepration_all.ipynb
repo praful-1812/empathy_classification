{
 "cells": [
  {
   "cell_type": "code",
   "execution_count": 2,
   "id": "b8cb1920",
   "metadata": {},
   "outputs": [],
   "source": [
    "import pandas as pd\n",
    "import os\n",
    "import re\n",
    "import numpy as np"
   ]
  },
  {
   "cell_type": "markdown",
   "id": "b336cfcc",
   "metadata": {},
   "source": [
    "**Go Emotion**"
   ]
  },
  {
   "cell_type": "code",
   "execution_count": 6,
   "id": "fe6ffabb",
   "metadata": {},
   "outputs": [],
   "source": [
    "data = pd.read_csv(r\"D:\\F\\projects\\lakebrains\\data\\goemotions\\goemotions_1.csv\")\n",
    "data2 = pd.read_csv(r\"D:\\F\\projects\\lakebrains\\data\\goemotions\\goemotions_2.csv\")\n",
    "data3 = pd.read_csv(r\"D:\\F\\projects\\lakebrains\\data\\goemotions\\goemotions_3.csv\")"
   ]
  },
  {
   "cell_type": "code",
   "execution_count": 7,
   "id": "0e982e5b",
   "metadata": {},
   "outputs": [],
   "source": [
    "data_true = data[data['example_very_unclear']==True]\n",
    "data_false = data[data['example_very_unclear']==False]"
   ]
  },
  {
   "cell_type": "code",
   "execution_count": 8,
   "id": "42dd4a00",
   "metadata": {},
   "outputs": [],
   "source": [
    "data_true2 = data2[data2['example_very_unclear']==True]\n",
    "data_false2 = data2[data2['example_very_unclear']==False]"
   ]
  },
  {
   "cell_type": "code",
   "execution_count": 9,
   "id": "d70508bc",
   "metadata": {},
   "outputs": [],
   "source": [
    "data_true3 = data3[data3['example_very_unclear']==True]\n",
    "data_false3 = data3[data3['example_very_unclear']==False]"
   ]
  },
  {
   "cell_type": "code",
   "execution_count": 38,
   "id": "c5a39f6e",
   "metadata": {},
   "outputs": [
    {
     "data": {
      "text/plain": [
       "((70036, 37), (68907, 37), (68871, 37))"
      ]
     },
     "execution_count": 38,
     "metadata": {},
     "output_type": "execute_result"
    }
   ],
   "source": [
    "data_false3.shape,data_false2.shape,data_false.shape"
   ]
  },
  {
   "cell_type": "code",
   "execution_count": 29,
   "id": "456068bc",
   "metadata": {},
   "outputs": [
    {
     "data": {
      "text/plain": [
       "Index(['text', 'id', 'author', 'subreddit', 'link_id', 'parent_id',\n",
       "       'created_utc', 'rater_id', 'example_very_unclear', 'admiration',\n",
       "       'amusement', 'anger', 'annoyance', 'approval', 'caring', 'confusion',\n",
       "       'curiosity', 'desire', 'disappointment', 'disapproval', 'disgust',\n",
       "       'embarrassment', 'excitement', 'fear', 'gratitude', 'grief', 'joy',\n",
       "       'love', 'nervousness', 'optimism', 'pride', 'realization', 'relief',\n",
       "       'remorse', 'sadness', 'surprise', 'neutral'],\n",
       "      dtype='object')"
      ]
     },
     "execution_count": 29,
     "metadata": {},
     "output_type": "execute_result"
    }
   ],
   "source": [
    "data.columns"
   ]
  },
  {
   "cell_type": "code",
   "execution_count": 30,
   "id": "4dd63e83",
   "metadata": {},
   "outputs": [],
   "source": [
    "final_data = pd.concat([data_false,data_false2,data_false3])"
   ]
  },
  {
   "cell_type": "code",
   "execution_count": 33,
   "id": "96196949",
   "metadata": {},
   "outputs": [],
   "source": [
    "final_data_req = final_data[['text','excitement','joy']]"
   ]
  },
  {
   "cell_type": "code",
   "execution_count": 35,
   "id": "9ab75da6",
   "metadata": {},
   "outputs": [],
   "source": [
    "final_data_req = final_data_req[(final_data_req['excitement']==1)|(final_data_req['joy']==1)]"
   ]
  },
  {
   "cell_type": "code",
   "execution_count": 36,
   "id": "bd675485",
   "metadata": {},
   "outputs": [
    {
     "data": {
      "text/html": [
       "<div>\n",
       "<style scoped>\n",
       "    .dataframe tbody tr th:only-of-type {\n",
       "        vertical-align: middle;\n",
       "    }\n",
       "\n",
       "    .dataframe tbody tr th {\n",
       "        vertical-align: top;\n",
       "    }\n",
       "\n",
       "    .dataframe thead th {\n",
       "        text-align: right;\n",
       "    }\n",
       "</style>\n",
       "<table border=\"1\" class=\"dataframe\">\n",
       "  <thead>\n",
       "    <tr style=\"text-align: right;\">\n",
       "      <th></th>\n",
       "      <th>text</th>\n",
       "      <th>excitement</th>\n",
       "      <th>joy</th>\n",
       "    </tr>\n",
       "  </thead>\n",
       "  <tbody>\n",
       "    <tr>\n",
       "      <th>25</th>\n",
       "      <td>\"Seeeee! We have one of them coloureds too!\"</td>\n",
       "      <td>1</td>\n",
       "      <td>0</td>\n",
       "    </tr>\n",
       "    <tr>\n",
       "      <th>29</th>\n",
       "      <td>So happy for [NAME]. So sad he's not here. Ima...</td>\n",
       "      <td>0</td>\n",
       "      <td>1</td>\n",
       "    </tr>\n",
       "    <tr>\n",
       "      <th>43</th>\n",
       "      <td>By far the coolest thing I've seen on this thr...</td>\n",
       "      <td>0</td>\n",
       "      <td>1</td>\n",
       "    </tr>\n",
       "    <tr>\n",
       "      <th>49</th>\n",
       "      <td>Sending love and strength vibes &lt;3</td>\n",
       "      <td>0</td>\n",
       "      <td>1</td>\n",
       "    </tr>\n",
       "    <tr>\n",
       "      <th>58</th>\n",
       "      <td>Me too! First time in a couple of years!</td>\n",
       "      <td>0</td>\n",
       "      <td>1</td>\n",
       "    </tr>\n",
       "    <tr>\n",
       "      <th>...</th>\n",
       "      <td>...</td>\n",
       "      <td>...</td>\n",
       "      <td>...</td>\n",
       "    </tr>\n",
       "    <tr>\n",
       "      <th>71179</th>\n",
       "      <td>A joke is subjective pal, second of all you ne...</td>\n",
       "      <td>0</td>\n",
       "      <td>1</td>\n",
       "    </tr>\n",
       "    <tr>\n",
       "      <th>71185</th>\n",
       "      <td>Oh wow My heart ✨</td>\n",
       "      <td>1</td>\n",
       "      <td>0</td>\n",
       "    </tr>\n",
       "    <tr>\n",
       "      <th>71202</th>\n",
       "      <td>Yes!!!!!! She’s a hot mess!</td>\n",
       "      <td>1</td>\n",
       "      <td>0</td>\n",
       "    </tr>\n",
       "    <tr>\n",
       "      <th>71212</th>\n",
       "      <td>What a great photo and you two look so happy. 😍</td>\n",
       "      <td>0</td>\n",
       "      <td>1</td>\n",
       "    </tr>\n",
       "    <tr>\n",
       "      <th>71219</th>\n",
       "      <td>Well, I'm glad you're out of all that now. How...</td>\n",
       "      <td>0</td>\n",
       "      <td>1</td>\n",
       "    </tr>\n",
       "  </tbody>\n",
       "</table>\n",
       "<p>12743 rows × 3 columns</p>\n",
       "</div>"
      ],
      "text/plain": [
       "                                                    text  excitement  joy\n",
       "25          \"Seeeee! We have one of them coloureds too!\"           1    0\n",
       "29     So happy for [NAME]. So sad he's not here. Ima...           0    1\n",
       "43     By far the coolest thing I've seen on this thr...           0    1\n",
       "49                    Sending love and strength vibes <3           0    1\n",
       "58              Me too! First time in a couple of years!           0    1\n",
       "...                                                  ...         ...  ...\n",
       "71179  A joke is subjective pal, second of all you ne...           0    1\n",
       "71185                                  Oh wow My heart ✨           1    0\n",
       "71202                        Yes!!!!!! She’s a hot mess!           1    0\n",
       "71212    What a great photo and you two look so happy. 😍           0    1\n",
       "71219  Well, I'm glad you're out of all that now. How...           0    1\n",
       "\n",
       "[12743 rows x 3 columns]"
      ]
     },
     "execution_count": 36,
     "metadata": {},
     "output_type": "execute_result"
    }
   ],
   "source": [
    "final_data_req"
   ]
  },
  {
   "cell_type": "code",
   "execution_count": null,
   "id": "21e58b3c",
   "metadata": {},
   "outputs": [],
   "source": []
  },
  {
   "cell_type": "code",
   "execution_count": null,
   "id": "b59a6902",
   "metadata": {},
   "outputs": [],
   "source": []
  },
  {
   "cell_type": "markdown",
   "id": "ffad18df",
   "metadata": {},
   "source": [
    "**Facebook_empatheticdialogues**"
   ]
  },
  {
   "cell_type": "code",
   "execution_count": 15,
   "id": "40e31d1b",
   "metadata": {},
   "outputs": [],
   "source": [
    "fb_df1 = pd.read_csv(r\"D:\\F\\projects\\lakebrains\\data\\praful\\dataframe_1.csv\")"
   ]
  },
  {
   "cell_type": "code",
   "execution_count": 16,
   "id": "e0990307",
   "metadata": {},
   "outputs": [
    {
     "data": {
      "text/plain": [
       "(28406, 7)"
      ]
     },
     "execution_count": 16,
     "metadata": {},
     "output_type": "execute_result"
    }
   ],
   "source": [
    "fb_df1.shape"
   ]
  },
  {
   "cell_type": "code",
   "execution_count": 17,
   "id": "287e3130",
   "metadata": {},
   "outputs": [
    {
     "data": {
      "text/plain": [
       "Index(['Unnamed: 0', 'Situation', 'emotion', 'empathetic_dialogues', 'labels',\n",
       "       'Unnamed: 5', 'Unnamed: 6'],\n",
       "      dtype='object')"
      ]
     },
     "execution_count": 17,
     "metadata": {},
     "output_type": "execute_result"
    }
   ],
   "source": [
    "fb_df1.columns"
   ]
  },
  {
   "cell_type": "code",
   "execution_count": 18,
   "id": "7b0932f9",
   "metadata": {},
   "outputs": [
    {
     "data": {
      "text/html": [
       "<div>\n",
       "<style scoped>\n",
       "    .dataframe tbody tr th:only-of-type {\n",
       "        vertical-align: middle;\n",
       "    }\n",
       "\n",
       "    .dataframe tbody tr th {\n",
       "        vertical-align: top;\n",
       "    }\n",
       "\n",
       "    .dataframe thead th {\n",
       "        text-align: right;\n",
       "    }\n",
       "</style>\n",
       "<table border=\"1\" class=\"dataframe\">\n",
       "  <thead>\n",
       "    <tr style=\"text-align: right;\">\n",
       "      <th></th>\n",
       "      <th>Situation</th>\n",
       "      <th>emotion</th>\n",
       "      <th>empathetic_dialogues</th>\n",
       "      <th>labels</th>\n",
       "    </tr>\n",
       "  </thead>\n",
       "  <tbody>\n",
       "    <tr>\n",
       "      <th>0</th>\n",
       "      <td>I remember going to the fireworks with my best...</td>\n",
       "      <td>sentimental</td>\n",
       "      <td>Customer :I remember going to see the firework...</td>\n",
       "      <td>Was this a friend you were in love with, or ju...</td>\n",
       "    </tr>\n",
       "    <tr>\n",
       "      <th>1</th>\n",
       "      <td>I remember going to the fireworks with my best...</td>\n",
       "      <td>sentimental</td>\n",
       "      <td>Customer :This was a best friend. I miss her.\\...</td>\n",
       "      <td>Where has she gone?</td>\n",
       "    </tr>\n",
       "    <tr>\n",
       "      <th>2</th>\n",
       "      <td>I remember going to the fireworks with my best...</td>\n",
       "      <td>sentimental</td>\n",
       "      <td>Customer :We no longer talk.\\nAgent :</td>\n",
       "      <td>Oh was this something that happened because of...</td>\n",
       "    </tr>\n",
       "    <tr>\n",
       "      <th>3</th>\n",
       "      <td>I remember going to the fireworks with my best...</td>\n",
       "      <td>sentimental</td>\n",
       "      <td>Customer :Was this a friend you were in love w...</td>\n",
       "      <td>This was a best friend. I miss her.</td>\n",
       "    </tr>\n",
       "    <tr>\n",
       "      <th>4</th>\n",
       "      <td>I remember going to the fireworks with my best...</td>\n",
       "      <td>sentimental</td>\n",
       "      <td>Customer :Where has she gone?\\nAgent :</td>\n",
       "      <td>We no longer talk.</td>\n",
       "    </tr>\n",
       "    <tr>\n",
       "      <th>...</th>\n",
       "      <td>...</td>\n",
       "      <td>...</td>\n",
       "      <td>...</td>\n",
       "      <td>...</td>\n",
       "    </tr>\n",
       "    <tr>\n",
       "      <th>28401</th>\n",
       "      <td>I am almost done with law school. I cannot wai...</td>\n",
       "      <td>anxious</td>\n",
       "      <td>Customer :I am almost done with law school.\\nA...</td>\n",
       "      <td>That's awesome, congrats! Do you have a job li...</td>\n",
       "    </tr>\n",
       "    <tr>\n",
       "      <th>28402</th>\n",
       "      <td>I am almost done with law school. I cannot wai...</td>\n",
       "      <td>anxious</td>\n",
       "      <td>Customer :Not yet, but I can't wait to graduat...</td>\n",
       "      <td>Yes, it will be nice to have a good pay cheque...</td>\n",
       "    </tr>\n",
       "    <tr>\n",
       "      <th>28403</th>\n",
       "      <td>I am almost done with law school. I cannot wai...</td>\n",
       "      <td>anxious</td>\n",
       "      <td>Customer :That's awesome, congrats! Do you hav...</td>\n",
       "      <td>Not yet, but I can't wait to graduate and star...</td>\n",
       "    </tr>\n",
       "    <tr>\n",
       "      <th>28404</th>\n",
       "      <td>My friend learned how to fly a plane in his sp...</td>\n",
       "      <td>impressed</td>\n",
       "      <td>Customer :My friend learned how to fly a plane...</td>\n",
       "      <td>Wow, that's a pretty cool hobby. Just a small ...</td>\n",
       "    </tr>\n",
       "    <tr>\n",
       "      <th>28405</th>\n",
       "      <td>My friend learned how to fly a plane in his sp...</td>\n",
       "      <td>impressed</td>\n",
       "      <td>Customer :Yup. He said he might move up to big...</td>\n",
       "      <td>Yeah I always thought it would be fun to learn...</td>\n",
       "    </tr>\n",
       "  </tbody>\n",
       "</table>\n",
       "<p>28406 rows × 4 columns</p>\n",
       "</div>"
      ],
      "text/plain": [
       "                                               Situation      emotion  \\\n",
       "0      I remember going to the fireworks with my best...  sentimental   \n",
       "1      I remember going to the fireworks with my best...  sentimental   \n",
       "2      I remember going to the fireworks with my best...  sentimental   \n",
       "3      I remember going to the fireworks with my best...  sentimental   \n",
       "4      I remember going to the fireworks with my best...  sentimental   \n",
       "...                                                  ...          ...   \n",
       "28401  I am almost done with law school. I cannot wai...      anxious   \n",
       "28402  I am almost done with law school. I cannot wai...      anxious   \n",
       "28403  I am almost done with law school. I cannot wai...      anxious   \n",
       "28404  My friend learned how to fly a plane in his sp...    impressed   \n",
       "28405  My friend learned how to fly a plane in his sp...    impressed   \n",
       "\n",
       "                                    empathetic_dialogues  \\\n",
       "0      Customer :I remember going to see the firework...   \n",
       "1      Customer :This was a best friend. I miss her.\\...   \n",
       "2                  Customer :We no longer talk.\\nAgent :   \n",
       "3      Customer :Was this a friend you were in love w...   \n",
       "4                 Customer :Where has she gone?\\nAgent :   \n",
       "...                                                  ...   \n",
       "28401  Customer :I am almost done with law school.\\nA...   \n",
       "28402  Customer :Not yet, but I can't wait to graduat...   \n",
       "28403  Customer :That's awesome, congrats! Do you hav...   \n",
       "28404  Customer :My friend learned how to fly a plane...   \n",
       "28405  Customer :Yup. He said he might move up to big...   \n",
       "\n",
       "                                                  labels  \n",
       "0      Was this a friend you were in love with, or ju...  \n",
       "1                                    Where has she gone?  \n",
       "2      Oh was this something that happened because of...  \n",
       "3                    This was a best friend. I miss her.  \n",
       "4                                     We no longer talk.  \n",
       "...                                                  ...  \n",
       "28401  That's awesome, congrats! Do you have a job li...  \n",
       "28402  Yes, it will be nice to have a good pay cheque...  \n",
       "28403  Not yet, but I can't wait to graduate and star...  \n",
       "28404  Wow, that's a pretty cool hobby. Just a small ...  \n",
       "28405  Yeah I always thought it would be fun to learn...  \n",
       "\n",
       "[28406 rows x 4 columns]"
      ]
     },
     "execution_count": 18,
     "metadata": {},
     "output_type": "execute_result"
    }
   ],
   "source": [
    "fb_df1 = fb_df1[['Situation','emotion','empathetic_dialogues','labels']]\n",
    "fb_df1"
   ]
  },
  {
   "cell_type": "code",
   "execution_count": 19,
   "id": "ace6fe6b",
   "metadata": {
    "scrolled": true
   },
   "outputs": [
    {
     "data": {
      "text/plain": [
       "surprised                                                                           1628\n",
       "excited                                                                             1209\n",
       "angry                                                                               1179\n",
       "grateful                                                                            1116\n",
       "guilty                                                                              1110\n",
       "proud                                                                               1102\n",
       "sad                                                                                 1050\n",
       "annoyed                                                                             1015\n",
       "afraid                                                                              1009\n",
       "lonely                                                                               994\n",
       "joyful                                                                               961\n",
       "terrified                                                                            953\n",
       "hopeful                                                                              950\n",
       "impressed                                                                            941\n",
       "anxious                                                                              919\n",
       "confident                                                                            887\n",
       "nostalgic                                                                            886\n",
       "jealous                                                                              878\n",
       "disgusted                                                                            876\n",
       "disappointed                                                                         857\n",
       "furious                                                                              845\n",
       "prepared                                                                             830\n",
       "anticipating                                                                         805\n",
       "embarrassed                                                                          756\n",
       "caring                                                                               725\n",
       "content                                                                              686\n",
       "devastated                                                                           681\n",
       "sentimental                                                                          626\n",
       "trusting                                                                             529\n",
       "ashamed                                                                              488\n",
       "apprehensive                                                                         484\n",
       "faithful                                                                             411\n",
       "t even like scary things                                                               5\n",
       "I really killed it!                                                                    4\n",
       "t believe I like the show Power so much. I was never really into shows like that       4\n",
       "we were in a different country                                                         3\n",
       "Name: emotion, dtype: int64"
      ]
     },
     "execution_count": 19,
     "metadata": {},
     "output_type": "execute_result"
    }
   ],
   "source": [
    "fb_df1['emotion'].value_counts()"
   ]
  },
  {
   "cell_type": "code",
   "execution_count": 26,
   "id": "f4467aac",
   "metadata": {},
   "outputs": [],
   "source": [
    "fb_df1_req = fb_df1 [fb_df1['emotion'].isin(['excited','joyful','confident'])]"
   ]
  },
  {
   "cell_type": "code",
   "execution_count": 28,
   "id": "ae142d06",
   "metadata": {},
   "outputs": [
    {
     "data": {
      "text/plain": [
       "excited      1209\n",
       "joyful        961\n",
       "confident     887\n",
       "Name: emotion, dtype: int64"
      ]
     },
     "execution_count": 28,
     "metadata": {},
     "output_type": "execute_result"
    }
   ],
   "source": [
    "fb_df1_req['emotion'].value_counts()"
   ]
  },
  {
   "cell_type": "code",
   "execution_count": null,
   "id": "31da1543",
   "metadata": {},
   "outputs": [],
   "source": []
  },
  {
   "cell_type": "code",
   "execution_count": null,
   "id": "d8b3eb3c",
   "metadata": {},
   "outputs": [],
   "source": []
  },
  {
   "cell_type": "markdown",
   "id": "f03b5654",
   "metadata": {},
   "source": [
    "**Kaggle**"
   ]
  },
  {
   "cell_type": "code",
   "execution_count": 20,
   "id": "f9fe9c54",
   "metadata": {},
   "outputs": [],
   "source": [
    "ktrain = pd.read_csv(r\"D:\\F\\projects\\lakebrains\\data\\kaggle\\train.txt\", delimiter=';', header=None, names=['sentence','label'])\n",
    "ktest = pd.read_csv(r\"D:\\F\\projects\\lakebrains\\data\\kaggle\\test.txt\", delimiter=';', header=None, names=['sentence','label'])\n",
    "kval = pd.read_csv(r\"D:\\F\\projects\\lakebrains\\data\\kaggle\\val.txt\", delimiter=';', header=None, names=['sentence','label'])"
   ]
  },
  {
   "cell_type": "code",
   "execution_count": 22,
   "id": "ccdd6d7f",
   "metadata": {},
   "outputs": [
    {
     "data": {
      "text/plain": [
       "((16000, 2), (2000, 2), (2000, 2))"
      ]
     },
     "execution_count": 22,
     "metadata": {},
     "output_type": "execute_result"
    }
   ],
   "source": [
    "ktrain.shape, ktest.shape, kval.shape"
   ]
  },
  {
   "cell_type": "code",
   "execution_count": 23,
   "id": "930f9a55",
   "metadata": {},
   "outputs": [
    {
     "data": {
      "text/html": [
       "<div>\n",
       "<style scoped>\n",
       "    .dataframe tbody tr th:only-of-type {\n",
       "        vertical-align: middle;\n",
       "    }\n",
       "\n",
       "    .dataframe tbody tr th {\n",
       "        vertical-align: top;\n",
       "    }\n",
       "\n",
       "    .dataframe thead th {\n",
       "        text-align: right;\n",
       "    }\n",
       "</style>\n",
       "<table border=\"1\" class=\"dataframe\">\n",
       "  <thead>\n",
       "    <tr style=\"text-align: right;\">\n",
       "      <th></th>\n",
       "      <th>sentence</th>\n",
       "      <th>label</th>\n",
       "    </tr>\n",
       "  </thead>\n",
       "  <tbody>\n",
       "    <tr>\n",
       "      <th>0</th>\n",
       "      <td>i didnt feel humiliated</td>\n",
       "      <td>sadness</td>\n",
       "    </tr>\n",
       "    <tr>\n",
       "      <th>1</th>\n",
       "      <td>i can go from feeling so hopeless to so damned...</td>\n",
       "      <td>sadness</td>\n",
       "    </tr>\n",
       "    <tr>\n",
       "      <th>2</th>\n",
       "      <td>im grabbing a minute to post i feel greedy wrong</td>\n",
       "      <td>anger</td>\n",
       "    </tr>\n",
       "    <tr>\n",
       "      <th>3</th>\n",
       "      <td>i am ever feeling nostalgic about the fireplac...</td>\n",
       "      <td>love</td>\n",
       "    </tr>\n",
       "    <tr>\n",
       "      <th>4</th>\n",
       "      <td>i am feeling grouchy</td>\n",
       "      <td>anger</td>\n",
       "    </tr>\n",
       "  </tbody>\n",
       "</table>\n",
       "</div>"
      ],
      "text/plain": [
       "                                            sentence    label\n",
       "0                            i didnt feel humiliated  sadness\n",
       "1  i can go from feeling so hopeless to so damned...  sadness\n",
       "2   im grabbing a minute to post i feel greedy wrong    anger\n",
       "3  i am ever feeling nostalgic about the fireplac...     love\n",
       "4                               i am feeling grouchy    anger"
      ]
     },
     "execution_count": 23,
     "metadata": {},
     "output_type": "execute_result"
    }
   ],
   "source": [
    "ktrain.head()"
   ]
  },
  {
   "cell_type": "code",
   "execution_count": 24,
   "id": "7cfb3c8b",
   "metadata": {},
   "outputs": [
    {
     "data": {
      "text/plain": [
       "joy         5362\n",
       "sadness     4666\n",
       "anger       2159\n",
       "fear        1937\n",
       "love        1304\n",
       "surprise     572\n",
       "Name: label, dtype: int64"
      ]
     },
     "execution_count": 24,
     "metadata": {},
     "output_type": "execute_result"
    }
   ],
   "source": [
    "ktrain['label'].value_counts()"
   ]
  },
  {
   "cell_type": "code",
   "execution_count": null,
   "id": "a302c1d6",
   "metadata": {},
   "outputs": [],
   "source": []
  }
 ],
 "metadata": {
  "kernelspec": {
   "display_name": "Python 3 (ipykernel)",
   "language": "python",
   "name": "python3"
  },
  "language_info": {
   "codemirror_mode": {
    "name": "ipython",
    "version": 3
   },
   "file_extension": ".py",
   "mimetype": "text/x-python",
   "name": "python",
   "nbconvert_exporter": "python",
   "pygments_lexer": "ipython3",
   "version": "3.8.13"
  }
 },
 "nbformat": 4,
 "nbformat_minor": 5
}
